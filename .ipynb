{
 "cells": [
  {
   "cell_type": "markdown",
   "metadata": {},
   "source": [
    "# EXAMPLE: Personal Workout Tracking Data\n",
    "\n",
    "This Notebook provides an example on how to import data downloaded from a specific service Apple Health.\n",
    "\n",
    "NOTE: This is still a work-in-progress."
   ]
  },
  {
   "cell_type": "markdown",
   "metadata": {},
   "source": [
    "# Dependencies and Libraries"
   ]
  },
  {
   "cell_type": "code",
   "execution_count": 1,
   "metadata": {},
   "outputs": [],
   "source": [
    "from datetime import date, datetime as dt, timedelta as td\n",
    "import pytz\n",
    "import numpy as np\n",
    "import pandas as pd"
   ]
  },
  {
   "cell_type": "code",
   "execution_count": 2,
   "metadata": {},
   "outputs": [],
   "source": [
    "# functions to convert UTC to Eastern time zone and extract date/time elements\n",
    "convert_tz = lambda x: x.to_pydatetime().replace(tzinfo=pytz.utc).astimezone(pytz.timezone('US/Eastern'))\n",
    "get_year = lambda x: convert_tz(x).year\n",
    "get_month = lambda x: '{}-{:02}'.format(convert_tz(x).year, convert_tz(x).month) #inefficient\n",
    "get_date = lambda x: '{}-{:02}-{:02}'.format(convert_tz(x).year, convert_tz(x).month, convert_tz(x).day) #inefficient\n",
    "get_day = lambda x: convert_tz(x).day\n",
    "get_hour = lambda x: convert_tz(x).hour\n",
    "get_day_of_week = lambda x: convert_tz(x).weekday()"
   ]
  },
  {
   "cell_type": "markdown",
   "metadata": {},
   "source": [
    "# Import Data"
   ]
  },
  {
   "cell_type": "markdown",
   "metadata": {},
   "source": [
    "# Workouts"
   ]
  },
  {
   "cell_type": "code",
   "execution_count": 3,
   "metadata": {},
   "outputs": [
    {
     "data": {
      "text/html": [
       "<div>\n",
       "<style scoped>\n",
       "    .dataframe tbody tr th:only-of-type {\n",
       "        vertical-align: middle;\n",
       "    }\n",
       "\n",
       "    .dataframe tbody tr th {\n",
       "        vertical-align: top;\n",
       "    }\n",
       "\n",
       "    .dataframe thead th {\n",
       "        text-align: right;\n",
       "    }\n",
       "</style>\n",
       "<table border=\"1\" class=\"dataframe\">\n",
       "  <thead>\n",
       "    <tr style=\"text-align: right;\">\n",
       "      <th></th>\n",
       "      <th>Type</th>\n",
       "      <th>Start</th>\n",
       "      <th>End</th>\n",
       "      <th>Duration</th>\n",
       "      <th>Distance</th>\n",
       "      <th>Average Heart Rate</th>\n",
       "      <th>Max Heart Rate</th>\n",
       "      <th>Average Pace</th>\n",
       "      <th>Average Speed</th>\n",
       "      <th>Average Cadence</th>\n",
       "      <th>Active Energy</th>\n",
       "      <th>Total Energy</th>\n",
       "      <th>Elevation Ascended</th>\n",
       "      <th>Elevation Descended</th>\n",
       "      <th>Weather Temperature</th>\n",
       "      <th>Weather Humidity</th>\n",
       "    </tr>\n",
       "  </thead>\n",
       "  <tbody>\n",
       "    <tr>\n",
       "      <th>0</th>\n",
       "      <td>High Intensity Interval Training</td>\n",
       "      <td>11/2/2020 18:13</td>\n",
       "      <td>11/2/2020 19:04</td>\n",
       "      <td>0:51:19</td>\n",
       "      <td>NaN</td>\n",
       "      <td>132.885246</td>\n",
       "      <td>166</td>\n",
       "      <td>NaN</td>\n",
       "      <td>NaN</td>\n",
       "      <td>NaN</td>\n",
       "      <td>403.779</td>\n",
       "      <td>510.236</td>\n",
       "      <td>NaN</td>\n",
       "      <td>NaN</td>\n",
       "      <td>8.333333</td>\n",
       "      <td>41</td>\n",
       "    </tr>\n",
       "    <tr>\n",
       "      <th>1</th>\n",
       "      <td>Stair Climbing</td>\n",
       "      <td>10/31/2020 11:21</td>\n",
       "      <td>10/31/2020 11:58</td>\n",
       "      <td>0:36:12</td>\n",
       "      <td>NaN</td>\n",
       "      <td>150.785714</td>\n",
       "      <td>169</td>\n",
       "      <td>NaN</td>\n",
       "      <td>NaN</td>\n",
       "      <td>NaN</td>\n",
       "      <td>356.326</td>\n",
       "      <td>437.390</td>\n",
       "      <td>NaN</td>\n",
       "      <td>NaN</td>\n",
       "      <td>12.777778</td>\n",
       "      <td>52</td>\n",
       "    </tr>\n",
       "    <tr>\n",
       "      <th>2</th>\n",
       "      <td>Traditional Strength Training</td>\n",
       "      <td>10/31/2020 10:52</td>\n",
       "      <td>10/31/2020 11:21</td>\n",
       "      <td>0:28:49</td>\n",
       "      <td>NaN</td>\n",
       "      <td>129.920168</td>\n",
       "      <td>165</td>\n",
       "      <td>NaN</td>\n",
       "      <td>NaN</td>\n",
       "      <td>NaN</td>\n",
       "      <td>220.743</td>\n",
       "      <td>267.130</td>\n",
       "      <td>NaN</td>\n",
       "      <td>NaN</td>\n",
       "      <td>11.666667</td>\n",
       "      <td>61</td>\n",
       "    </tr>\n",
       "    <tr>\n",
       "      <th>3</th>\n",
       "      <td>Indoor Walking</td>\n",
       "      <td>10/29/2020 17:44</td>\n",
       "      <td>10/29/2020 18:23</td>\n",
       "      <td>0:38:54</td>\n",
       "      <td>2.558922</td>\n",
       "      <td>136.754098</td>\n",
       "      <td>149</td>\n",
       "      <td>0:15:12</td>\n",
       "      <td>3.946651</td>\n",
       "      <td>91.594429</td>\n",
       "      <td>249.822</td>\n",
       "      <td>333.331</td>\n",
       "      <td>NaN</td>\n",
       "      <td>NaN</td>\n",
       "      <td>24.444444</td>\n",
       "      <td>45</td>\n",
       "    </tr>\n",
       "    <tr>\n",
       "      <th>4</th>\n",
       "      <td>Indoor Walking</td>\n",
       "      <td>10/26/2020 19:50</td>\n",
       "      <td>10/26/2020 20:29</td>\n",
       "      <td>0:38:53</td>\n",
       "      <td>2.593661</td>\n",
       "      <td>132.868421</td>\n",
       "      <td>151</td>\n",
       "      <td>0:14:59</td>\n",
       "      <td>4.001231</td>\n",
       "      <td>90.009114</td>\n",
       "      <td>268.838</td>\n",
       "      <td>349.355</td>\n",
       "      <td>NaN</td>\n",
       "      <td>NaN</td>\n",
       "      <td>19.444444</td>\n",
       "      <td>90</td>\n",
       "    </tr>\n",
       "  </tbody>\n",
       "</table>\n",
       "</div>"
      ],
      "text/plain": [
       "                               Type             Start               End  \\\n",
       "0  High Intensity Interval Training   11/2/2020 18:13   11/2/2020 19:04   \n",
       "1                    Stair Climbing  10/31/2020 11:21  10/31/2020 11:58   \n",
       "2     Traditional Strength Training  10/31/2020 10:52  10/31/2020 11:21   \n",
       "3                    Indoor Walking  10/29/2020 17:44  10/29/2020 18:23   \n",
       "4                    Indoor Walking  10/26/2020 19:50  10/26/2020 20:29   \n",
       "\n",
       "  Duration  Distance  Average Heart Rate  Max Heart Rate Average Pace  \\\n",
       "0  0:51:19       NaN          132.885246             166          NaN   \n",
       "1  0:36:12       NaN          150.785714             169          NaN   \n",
       "2  0:28:49       NaN          129.920168             165          NaN   \n",
       "3  0:38:54  2.558922          136.754098             149      0:15:12   \n",
       "4  0:38:53  2.593661          132.868421             151      0:14:59   \n",
       "\n",
       "   Average Speed  Average Cadence  Active Energy  Total Energy  \\\n",
       "0            NaN              NaN        403.779       510.236   \n",
       "1            NaN              NaN        356.326       437.390   \n",
       "2            NaN              NaN        220.743       267.130   \n",
       "3       3.946651        91.594429        249.822       333.331   \n",
       "4       4.001231        90.009114        268.838       349.355   \n",
       "\n",
       "   Elevation Ascended  Elevation Descended  Weather Temperature  \\\n",
       "0                 NaN                  NaN             8.333333   \n",
       "1                 NaN                  NaN            12.777778   \n",
       "2                 NaN                  NaN            11.666667   \n",
       "3                 NaN                  NaN            24.444444   \n",
       "4                 NaN                  NaN            19.444444   \n",
       "\n",
       "   Weather Humidity  \n",
       "0                41  \n",
       "1                52  \n",
       "2                61  \n",
       "3                45  \n",
       "4                90  "
      ]
     },
     "execution_count": 3,
     "metadata": {},
     "output_type": "execute_result"
    }
   ],
   "source": [
    "# apple health\n",
    "workouts = pd.read_csv(\"C:/Users/brand/Desktop/Healthcare Info Systems/90day_workouts.csv\")\n",
    "\n",
    "workouts.head()"
   ]
  },
  {
   "cell_type": "markdown",
   "metadata": {},
   "source": [
    "# Drop unwanted metrics"
   ]
  },
  {
   "cell_type": "code",
   "execution_count": 4,
   "metadata": {},
   "outputs": [
    {
     "data": {
      "text/html": [
       "<div>\n",
       "<style scoped>\n",
       "    .dataframe tbody tr th:only-of-type {\n",
       "        vertical-align: middle;\n",
       "    }\n",
       "\n",
       "    .dataframe tbody tr th {\n",
       "        vertical-align: top;\n",
       "    }\n",
       "\n",
       "    .dataframe thead th {\n",
       "        text-align: right;\n",
       "    }\n",
       "</style>\n",
       "<table border=\"1\" class=\"dataframe\">\n",
       "  <thead>\n",
       "    <tr style=\"text-align: right;\">\n",
       "      <th></th>\n",
       "      <th>Type</th>\n",
       "      <th>Start</th>\n",
       "      <th>End</th>\n",
       "      <th>Duration</th>\n",
       "      <th>Distance</th>\n",
       "      <th>Average Heart Rate</th>\n",
       "      <th>Max Heart Rate</th>\n",
       "      <th>Active Energy</th>\n",
       "      <th>Total Energy</th>\n",
       "    </tr>\n",
       "  </thead>\n",
       "  <tbody>\n",
       "    <tr>\n",
       "      <th>0</th>\n",
       "      <td>High Intensity Interval Training</td>\n",
       "      <td>11/2/2020 18:13</td>\n",
       "      <td>11/2/2020 19:04</td>\n",
       "      <td>0:51:19</td>\n",
       "      <td>NaN</td>\n",
       "      <td>132.885246</td>\n",
       "      <td>166</td>\n",
       "      <td>403.779</td>\n",
       "      <td>510.236</td>\n",
       "    </tr>\n",
       "    <tr>\n",
       "      <th>1</th>\n",
       "      <td>Stair Climbing</td>\n",
       "      <td>10/31/2020 11:21</td>\n",
       "      <td>10/31/2020 11:58</td>\n",
       "      <td>0:36:12</td>\n",
       "      <td>NaN</td>\n",
       "      <td>150.785714</td>\n",
       "      <td>169</td>\n",
       "      <td>356.326</td>\n",
       "      <td>437.390</td>\n",
       "    </tr>\n",
       "    <tr>\n",
       "      <th>2</th>\n",
       "      <td>Traditional Strength Training</td>\n",
       "      <td>10/31/2020 10:52</td>\n",
       "      <td>10/31/2020 11:21</td>\n",
       "      <td>0:28:49</td>\n",
       "      <td>NaN</td>\n",
       "      <td>129.920168</td>\n",
       "      <td>165</td>\n",
       "      <td>220.743</td>\n",
       "      <td>267.130</td>\n",
       "    </tr>\n",
       "    <tr>\n",
       "      <th>3</th>\n",
       "      <td>Indoor Walking</td>\n",
       "      <td>10/29/2020 17:44</td>\n",
       "      <td>10/29/2020 18:23</td>\n",
       "      <td>0:38:54</td>\n",
       "      <td>2.558922</td>\n",
       "      <td>136.754098</td>\n",
       "      <td>149</td>\n",
       "      <td>249.822</td>\n",
       "      <td>333.331</td>\n",
       "    </tr>\n",
       "    <tr>\n",
       "      <th>4</th>\n",
       "      <td>Indoor Walking</td>\n",
       "      <td>10/26/2020 19:50</td>\n",
       "      <td>10/26/2020 20:29</td>\n",
       "      <td>0:38:53</td>\n",
       "      <td>2.593661</td>\n",
       "      <td>132.868421</td>\n",
       "      <td>151</td>\n",
       "      <td>268.838</td>\n",
       "      <td>349.355</td>\n",
       "    </tr>\n",
       "  </tbody>\n",
       "</table>\n",
       "</div>"
      ],
      "text/plain": [
       "                               Type             Start               End  \\\n",
       "0  High Intensity Interval Training   11/2/2020 18:13   11/2/2020 19:04   \n",
       "1                    Stair Climbing  10/31/2020 11:21  10/31/2020 11:58   \n",
       "2     Traditional Strength Training  10/31/2020 10:52  10/31/2020 11:21   \n",
       "3                    Indoor Walking  10/29/2020 17:44  10/29/2020 18:23   \n",
       "4                    Indoor Walking  10/26/2020 19:50  10/26/2020 20:29   \n",
       "\n",
       "  Duration  Distance  Average Heart Rate  Max Heart Rate  Active Energy  \\\n",
       "0  0:51:19       NaN          132.885246             166        403.779   \n",
       "1  0:36:12       NaN          150.785714             169        356.326   \n",
       "2  0:28:49       NaN          129.920168             165        220.743   \n",
       "3  0:38:54  2.558922          136.754098             149        249.822   \n",
       "4  0:38:53  2.593661          132.868421             151        268.838   \n",
       "\n",
       "   Total Energy  \n",
       "0       510.236  \n",
       "1       437.390  \n",
       "2       267.130  \n",
       "3       333.331  \n",
       "4       349.355  "
      ]
     },
     "execution_count": 4,
     "metadata": {},
     "output_type": "execute_result"
    }
   ],
   "source": [
    "new_workouts = workouts.drop(['Average Pace','Average Speed','Average Cadence','Elevation Ascended','Elevation Descended','Weather Temperature','Weather Humidity'], axis=1)\n",
    "\n",
    "new_workouts.head()"
   ]
  },
  {
   "cell_type": "code",
   "execution_count": 11,
   "metadata": {},
   "outputs": [
    {
     "name": "stdout",
     "output_type": "stream",
     "text": [
      "Enter your age 34\n"
     ]
    }
   ],
   "source": [
    "age = input(\"Enter your age: \")"
   ]
  },
  {
   "cell_type": "code",
   "execution_count": 5,
   "metadata": {},
   "outputs": [
    {
     "name": "stdout",
     "output_type": "stream",
     "text": [
      "Type                   object\n",
      "Start                  object\n",
      "End                    object\n",
      "Duration               object\n",
      "Distance              float64\n",
      "Average Heart Rate    float64\n",
      "Max Heart Rate          int64\n",
      "Active Energy         float64\n",
      "Total Energy          float64\n",
      "dtype: object\n"
     ]
    }
   ],
   "source": [
    "print(new_workouts.dtypes)"
   ]
  },
  {
   "cell_type": "code",
   "execution_count": 25,
   "metadata": {},
   "outputs": [],
   "source": [
    "#new_workouts[\"Duration\"] = pd.to_numeric(new_workouts.Duration, errors='coerce')"
   ]
  },
  {
   "cell_type": "code",
   "execution_count": 6,
   "metadata": {},
   "outputs": [
    {
     "data": {
      "text/html": [
       "<div>\n",
       "<style scoped>\n",
       "    .dataframe tbody tr th:only-of-type {\n",
       "        vertical-align: middle;\n",
       "    }\n",
       "\n",
       "    .dataframe tbody tr th {\n",
       "        vertical-align: top;\n",
       "    }\n",
       "\n",
       "    .dataframe thead th {\n",
       "        text-align: right;\n",
       "    }\n",
       "</style>\n",
       "<table border=\"1\" class=\"dataframe\">\n",
       "  <thead>\n",
       "    <tr style=\"text-align: right;\">\n",
       "      <th></th>\n",
       "      <th>Distance</th>\n",
       "      <th>Average Heart Rate</th>\n",
       "      <th>Max Heart Rate</th>\n",
       "      <th>Active Energy</th>\n",
       "      <th>Total Energy</th>\n",
       "    </tr>\n",
       "  </thead>\n",
       "  <tbody>\n",
       "    <tr>\n",
       "      <th>count</th>\n",
       "      <td>26.000000</td>\n",
       "      <td>54.000000</td>\n",
       "      <td>54.000000</td>\n",
       "      <td>54.000000</td>\n",
       "      <td>54.000000</td>\n",
       "    </tr>\n",
       "    <tr>\n",
       "      <th>mean</th>\n",
       "      <td>2.467600</td>\n",
       "      <td>132.049561</td>\n",
       "      <td>157.814815</td>\n",
       "      <td>259.930537</td>\n",
       "      <td>332.105981</td>\n",
       "    </tr>\n",
       "    <tr>\n",
       "      <th>std</th>\n",
       "      <td>0.732940</td>\n",
       "      <td>15.311375</td>\n",
       "      <td>15.091012</td>\n",
       "      <td>98.132155</td>\n",
       "      <td>114.825731</td>\n",
       "    </tr>\n",
       "    <tr>\n",
       "      <th>min</th>\n",
       "      <td>0.052785</td>\n",
       "      <td>90.033708</td>\n",
       "      <td>103.000000</td>\n",
       "      <td>11.061000</td>\n",
       "      <td>42.834000</td>\n",
       "    </tr>\n",
       "    <tr>\n",
       "      <th>25%</th>\n",
       "      <td>2.269670</td>\n",
       "      <td>130.074870</td>\n",
       "      <td>153.000000</td>\n",
       "      <td>220.984750</td>\n",
       "      <td>270.950000</td>\n",
       "    </tr>\n",
       "    <tr>\n",
       "      <th>50%</th>\n",
       "      <td>2.629042</td>\n",
       "      <td>134.826205</td>\n",
       "      <td>161.500000</td>\n",
       "      <td>263.661000</td>\n",
       "      <td>339.211500</td>\n",
       "    </tr>\n",
       "    <tr>\n",
       "      <th>75%</th>\n",
       "      <td>2.860247</td>\n",
       "      <td>140.642606</td>\n",
       "      <td>166.750000</td>\n",
       "      <td>308.219000</td>\n",
       "      <td>390.130250</td>\n",
       "    </tr>\n",
       "    <tr>\n",
       "      <th>max</th>\n",
       "      <td>3.726180</td>\n",
       "      <td>158.348718</td>\n",
       "      <td>182.000000</td>\n",
       "      <td>547.164000</td>\n",
       "      <td>673.464000</td>\n",
       "    </tr>\n",
       "  </tbody>\n",
       "</table>\n",
       "</div>"
      ],
      "text/plain": [
       "        Distance  Average Heart Rate  Max Heart Rate  Active Energy  \\\n",
       "count  26.000000           54.000000       54.000000      54.000000   \n",
       "mean    2.467600          132.049561      157.814815     259.930537   \n",
       "std     0.732940           15.311375       15.091012      98.132155   \n",
       "min     0.052785           90.033708      103.000000      11.061000   \n",
       "25%     2.269670          130.074870      153.000000     220.984750   \n",
       "50%     2.629042          134.826205      161.500000     263.661000   \n",
       "75%     2.860247          140.642606      166.750000     308.219000   \n",
       "max     3.726180          158.348718      182.000000     547.164000   \n",
       "\n",
       "       Total Energy  \n",
       "count     54.000000  \n",
       "mean     332.105981  \n",
       "std      114.825731  \n",
       "min       42.834000  \n",
       "25%      270.950000  \n",
       "50%      339.211500  \n",
       "75%      390.130250  \n",
       "max      673.464000  "
      ]
     },
     "metadata": {},
     "output_type": "display_data"
    }
   ],
   "source": [
    "display(new_workouts.describe())"
   ]
  },
  {
   "cell_type": "code",
   "execution_count": null,
   "metadata": {},
   "outputs": [],
   "source": []
  },
  {
   "cell_type": "markdown",
   "metadata": {},
   "source": [
    "# Create Avg HR Intesnity "
   ]
  },
  {
   "cell_type": "code",
   "execution_count": 13,
   "metadata": {},
   "outputs": [
    {
     "name": "stdout",
     "output_type": "stream",
     "text": [
      "34\n"
     ]
    },
    {
     "ename": "AttributeError",
     "evalue": "'str' object has no attribute 'age'",
     "output_type": "error",
     "traceback": [
      "\u001b[1;31m---------------------------------------------------------------------------\u001b[0m",
      "\u001b[1;31mAttributeError\u001b[0m                            Traceback (most recent call last)",
      "\u001b[1;32m<ipython-input-13-4dcd510a8ea9>\u001b[0m in \u001b[0;36m<module>\u001b[1;34m\u001b[0m\n\u001b[1;32m----> 1\u001b[1;33m \u001b[0mnew_workouts\u001b[0m\u001b[1;33m[\u001b[0m\u001b[1;34m'Avg Heart Rate Intensity'\u001b[0m\u001b[1;33m]\u001b[0m \u001b[1;33m=\u001b[0m \u001b[0mnew_workouts\u001b[0m\u001b[1;33m[\u001b[0m\u001b[1;34m'Average Heart Rate'\u001b[0m\u001b[1;33m]\u001b[0m \u001b[1;33m/\u001b[0m \u001b[0minput\u001b[0m\u001b[1;33m(\u001b[0m\u001b[1;33m)\u001b[0m\u001b[1;33m.\u001b[0m\u001b[0mage\u001b[0m \u001b[1;31m#find out how to use input for anyones age\u001b[0m\u001b[1;33m\u001b[0m\u001b[1;33m\u001b[0m\u001b[0m\n\u001b[0m\u001b[0;32m      2\u001b[0m \u001b[1;33m\u001b[0m\u001b[0m\n\u001b[0;32m      3\u001b[0m \u001b[0mnew_workouts\u001b[0m\u001b[1;33m.\u001b[0m\u001b[0mtail\u001b[0m\u001b[1;33m(\u001b[0m\u001b[1;33m)\u001b[0m\u001b[1;33m\u001b[0m\u001b[1;33m\u001b[0m\u001b[0m\n",
      "\u001b[1;31mAttributeError\u001b[0m: 'str' object has no attribute 'age'"
     ]
    }
   ],
   "source": [
    "new_workouts['Avg Heart Rate Intensity'] = new_workouts['Average Heart Rate'] / input().age \n",
    "# other try- new_workouts['Average Heart Rate'].div(age)\n",
    "workouts.tail()"
   ]
  },
  {
   "cell_type": "markdown",
   "metadata": {},
   "source": [
    "#  Exercise Guidelines"
   ]
  },
  {
   "cell_type": "code",
   "execution_count": 13,
   "metadata": {},
   "outputs": [
    {
     "name": "stdout",
     "output_type": "stream",
     "text": [
      "Enter weekly exercise time in minutes: 90\n",
      "For more educational information on recommended daily exercise for adults, visit \n",
      "https://health.gov/paguidelines/second-edition/pdf/Physical_Activity_Guidelines_2nd_edition.pdf#page=55\n",
      "\n",
      "Your daily exercise time of 90 is less than recommended. Consider increasing it to achieve at least 150 minutes per week to improve your health.\n"
     ]
    }
   ],
   "source": [
    "# Minutes of Weekly Exercise\n",
    "\n",
    "def getExer():\n",
    "    global ex_time\n",
    "    \n",
    "    ex_time = input(\"Enter weekly exercise time in minutes: \")\n",
    "\n",
    "    print(\"For more educational information on recommended daily exercise for adults, visit\", \"\\nhttps://health.gov/paguidenes/second-edition/pdf/Physical_Activity_Guidelines_2nd_edition.pdf#page=55\")\n",
    "    print()\n",
    "    \n",
    "    if int(ex_time) <= 149:\n",
    "         print(\"Your daily exercise time of\", ex_time, \"is less than recommended. Consider increasing it to achieve at least 150 minutes per week to improve your health.\")\n",
    "    elif int(ex_time) >= 150 and int(ex_time) <= 300:\n",
    "         print(\"Your daily exercise time of\", ex_time, \"is within the recommended amount. Achieving 150-300 minutes per week will continue to improve your health.\")\n",
    "    elif int(ex_time) >= 301:\n",
    "         print(\"Your daily exercise time of\", ex_time, \"exceeds the recommended amount. Your weekly total should benefit your health.\")\n",
    "    else:\n",
    "         print(\"Invalid entry for minutes of daily exercise\")\n",
    "\n",
    "getExer()"
   ]
  }
 ],
 "metadata": {
  "kernelspec": {
   "display_name": "Python 3",
   "language": "python",
   "name": "python3"
  },
  "language_info": {
   "codemirror_mode": {
    "name": "ipython",
    "version": 3
   },
   "file_extension": ".py",
   "mimetype": "text/x-python",
   "name": "python",
   "nbconvert_exporter": "python",
   "pygments_lexer": "ipython3",
   "version": "3.7.6"
  }
 },
 "nbformat": 4,
 "nbformat_minor": 4
}
